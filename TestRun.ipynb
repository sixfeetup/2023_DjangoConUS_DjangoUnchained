{
 "cells": [
  {
   "cell_type": "markdown",
   "metadata": {},
   "source": [
    "<h1>Powering Energy Storage Beyond Excel</h1>\n",
    "<h2>This is a sample document to show the power of python over Excel files</h2>"
   ]
  },
  {
   "cell_type": "code",
   "execution_count": 73,
   "metadata": {},
   "outputs": [],
   "source": [
    "# Required Dependencies\n",
    "import tabulate\n",
    "import pandas as pd\n",
    "from decimal import Decimal as D"
   ]
  },
  {
   "cell_type": "code",
   "execution_count": 74,
   "metadata": {},
   "outputs": [],
   "source": [
    "def convert_data_to_df(file, columns, skiprows):\n",
    "    \"\"\"\n",
    "    Read and excel file with specific columns and skip any non required \n",
    "    rows you encounter during reading rows.\n",
    "    \"\"\"\n",
    "    specifications = pd.read_excel(file, skiprows=skiprows, usecols=columns)\n",
    "    return specifications"
   ]
  },
  {
   "cell_type": "markdown",
   "metadata": {},
   "source": [
    "<h3>Reading Data from excel to Store in Database for further use in other components</h3>"
   ]
  },
  {
   "cell_type": "markdown",
   "metadata": {},
   "source": [
    "<h3>Storing Constant Data for Project</h3>"
   ]
  },
  {
   "cell_type": "code",
   "execution_count": 75,
   "metadata": {},
   "outputs": [],
   "source": [
    "def convert_data_type(data_property):\n",
    "    \"\"\"\n",
    "    Convert list of data into a dictionary, where keys\n",
    "    represent the years and values represent the values\n",
    "    against that year. \n",
    "    \"\"\"\n",
    "    output = {\n",
    "        index: D(value)\n",
    "            for index, value in enumerate(data_property, start=1)\n",
    "    }\n",
    "    return output"
   ]
  },
  {
   "cell_type": "code",
   "execution_count": 76,
   "metadata": {},
   "outputs": [],
   "source": [
    "def get_constant_data_for_project(sheet_name, columns, skiprows):\n",
    "    \"\"\"\n",
    "    Read only specific columns from the excel file.\n",
    "    \"\"\"\n",
    "    data = convert_data_to_df(sheet_name, columns=columns, skiprows=skiprows).iloc[0:40]\n",
    "    return data\n"
   ]
  },
  {
   "cell_type": "code",
   "execution_count": 77,
   "metadata": {},
   "outputs": [],
   "source": [
    "sheet_data = get_constant_data_for_project(\"data/sample.xlsx\", columns=\"T:X\", skiprows=54)\n",
    "\n",
    "\"\"\"\n",
    "Get required columns from the data frame and convert them into \n",
    "desired behavior using convert_data_type() function\n",
    "\"\"\"\n",
    "\n",
    "PERFORMANCE_DETERIORATION_PROFILE =  convert_data_type(sheet_data[\"Performance Deterioration Profile\"])\n",
    "STEPWISE_DIRECT_CURRENT_GENERATION_INCREASE = convert_data_type(sheet_data[\"Stepwise Direct Current Generation Increase\"])\n",
    "DETERIORATION_CURVE_FOR_PHASE_GREATER_THAN1 = convert_data_type(sheet_data[\"Deterioration Curve for Phase Greater Than 1\"])\n",
    "PROGRESSIVE_PROJECT_DIRECT_CURRENT_GENERATION = convert_data_type(sheet_data[\"Progressive Project Direct Current Generation\"])\n",
    "PERFORMANCE_DECAY_WITH_PERFORMANCE_GRID_MATRIX = convert_data_type(sheet_data[\"Performance Decay with Performance Grid Matrix\"])"
   ]
  },
  {
   "cell_type": "markdown",
   "metadata": {},
   "source": [
    "<h3>Implementing calculations and formulas from an excel file</h3>"
   ]
  },
  {
   "cell_type": "code",
   "execution_count": 78,
   "metadata": {},
   "outputs": [],
   "source": [
    "class Phase:\n",
    "    \"\"\"Calculate PG Table Phase formulas for the project.\"\"\"\n",
    "\n",
    "    def __init__(self, phase_info):\n",
    "        \"\"\"Constructor\"\"\"\n",
    "        self.phase_info = phase_info\n",
    "        self.years = [year for year in range(1, 41)]\n",
    "        self.phase_degradation_with_deterioration_profile = (\n",
    "            PERFORMANCE_DETERIORATION_PROFILE\n",
    "            if self.phase_info == 1\n",
    "            else DETERIORATION_CURVE_FOR_PHASE_GREATER_THAN1\n",
    "        )\n",
    "\n",
    "    @property\n",
    "    def incremental_phase_dc_generation(self):\n",
    "        \"\"\"\n",
    "        Incremental Phase DC Generation\n",
    "        \"\"\"\n",
    "        return STEPWISE_DIRECT_CURRENT_GENERATION_INCREASE\n",
    "\n",
    "    @property\n",
    "    def total_phase_dc_generation(self):\n",
    "        \"\"\"\n",
    "        Total Phase DC Generation\n",
    "        =SUM(Hn:H$n)\n",
    "        \"\"\"\n",
    "        # n is a natural number\n",
    "        incremental_phase_dc_generation = self.incremental_phase_dc_generation\n",
    "        result = {1: 0, 2: incremental_phase_dc_generation[2]}\n",
    "        for year in self.years[2:]:\n",
    "            result[year] = sum(\n",
    "                [incremental_phase_dc_generation[prev_year] for prev_year in result]\n",
    "                + [incremental_phase_dc_generation[year]]\n",
    "            )\n",
    "\n",
    "        return result\n",
    "\n",
    "    @property\n",
    "    def phase_years(self):\n",
    "        \"\"\"\n",
    "        Total Years for a project\n",
    "        \"\"\"\n",
    "        return self.years\n",
    "\n",
    "    @property\n",
    "    def performance_decay_with_performance_grid_matrix(self):\n",
    "        \"\"\"\n",
    "        A constant value throughout the project\n",
    "        \"\"\"\n",
    "        return PERFORMANCE_DECAY_WITH_PERFORMANCE_GRID_MATRIX\n",
    "\n",
    "    @property\n",
    "    def performance_decay_with_performance_grid_matrix_delta(self):\n",
    "        \"\"\"\n",
    "        Deg w/ PG Matrix vs HARD INPUT SOH Delta\n",
    "        \"\"\"\n",
    "        performance_decay_with_performance_grid_matrix = self.performance_decay_with_performance_grid_matrix\n",
    "        result = {}\n",
    "        for year in self.years:\n",
    "            result[year] = abs(\n",
    "                round(performance_decay_with_performance_grid_matrix[year], 6)\n",
    "                - round(D(self.phase_degradation_with_deterioration_profile[year]), 6)\n",
    "            )\n",
    "        return result\n"
   ]
  },
  {
   "cell_type": "code",
   "execution_count": 79,
   "metadata": {},
   "outputs": [],
   "source": [
    "class PerformanceTableProject:\n",
    "    \"\"\"Performance Table formulas\"\"\"\n",
    "\n",
    "    phase_1 = None\n",
    "    phase_2 = None\n",
    "\n",
    "    def __init__(self):\n",
    "        self.years = [year for year in range(1, 41)]\n",
    "        self.initialize_phases()\n",
    "\n",
    "    def initialize_phases(self):\n",
    "        for phase in [phase for phase in range(1, 3)]:\n",
    "            setattr(self, f\"phase_{phase}\", Phase(phase_info=phase),)\n",
    "\n",
    "    @property\n",
    "    def project_performance_decay_with_performance_grid_matrix_delta(self):\n",
    "        \"\"\"Calculate Deg w/ PG Matrix vs HARD INPUT SOH Delta\"\"\"\n",
    "        phase_deg_pg_matrix = {}\n",
    "        for phase in [phase for phase in range(1, 3)]:\n",
    "            phase_obj = getattr(self, f\"phase_{phase}\")\n",
    "            phase_deg_pg_matrix[phase] = phase_obj.performance_decay_with_performance_grid_matrix_delta\n",
    "\n",
    "        result = {}\n",
    "        for year in self.years:\n",
    "            result[year] = max(\n",
    "                [phase_deg_pg_matrix[phase][year] for phase in [phase for phase in range(1, 3)]]\n",
    "            )\n",
    "\n",
    "        return result\n",
    "\n",
    "    @property\n",
    "    def project_cycles(self):\n",
    "        result = {1: 0}\n",
    "        for year in self.years[1:]:\n",
    "            result[year] = result[year - 1] + self.cycles_per_year\n",
    "        return result\n"
   ]
  },
  {
   "cell_type": "code",
   "execution_count": 80,
   "metadata": {},
   "outputs": [],
   "source": [
    "performance_table = PerformanceTableProject()\n",
    "table_output = performance_table.project_performance_decay_with_performance_grid_matrix_delta"
   ]
  },
  {
   "cell_type": "markdown",
   "metadata": {},
   "source": [
    "<h3>Compare results from Excel sheet and Code</h3>"
   ]
  },
  {
   "cell_type": "code",
   "execution_count": 81,
   "metadata": {},
   "outputs": [
    {
     "data": {
      "text/html": [
       "<table>\n",
       "<thead>\n",
       "<tr><th style=\"text-align: right;\">    Excel</th><th style=\"text-align: right;\">  Python</th></tr>\n",
       "</thead>\n",
       "<tbody>\n",
       "<tr><td style=\"text-align: right;\">0        </td><td style=\"text-align: right;\">0       </td></tr>\n",
       "<tr><td style=\"text-align: right;\">0.0703328</td><td style=\"text-align: right;\">0.070333</td></tr>\n",
       "<tr><td style=\"text-align: right;\">0.102085 </td><td style=\"text-align: right;\">0.102085</td></tr>\n",
       "<tr><td style=\"text-align: right;\">0.115988 </td><td style=\"text-align: right;\">0.115988</td></tr>\n",
       "<tr><td style=\"text-align: right;\">0.127193 </td><td style=\"text-align: right;\">0.127193</td></tr>\n",
       "<tr><td style=\"text-align: right;\">0.140799 </td><td style=\"text-align: right;\">0.140799</td></tr>\n",
       "<tr><td style=\"text-align: right;\">0.15302  </td><td style=\"text-align: right;\">0.15302 </td></tr>\n",
       "<tr><td style=\"text-align: right;\">0.164308 </td><td style=\"text-align: right;\">0.164308</td></tr>\n",
       "<tr><td style=\"text-align: right;\">0.177549 </td><td style=\"text-align: right;\">0.177549</td></tr>\n",
       "<tr><td style=\"text-align: right;\">0.193524 </td><td style=\"text-align: right;\">0.193524</td></tr>\n",
       "<tr><td style=\"text-align: right;\">0.205679 </td><td style=\"text-align: right;\">0.205679</td></tr>\n",
       "<tr><td style=\"text-align: right;\">0.221639 </td><td style=\"text-align: right;\">0.221639</td></tr>\n",
       "<tr><td style=\"text-align: right;\">0.237762 </td><td style=\"text-align: right;\">0.237762</td></tr>\n",
       "<tr><td style=\"text-align: right;\">0.250349 </td><td style=\"text-align: right;\">0.250349</td></tr>\n",
       "<tr><td style=\"text-align: right;\">0.261309 </td><td style=\"text-align: right;\">0.261309</td></tr>\n",
       "<tr><td style=\"text-align: right;\">0.273264 </td><td style=\"text-align: right;\">0.273264</td></tr>\n",
       "<tr><td style=\"text-align: right;\">0.288215 </td><td style=\"text-align: right;\">0.288215</td></tr>\n",
       "<tr><td style=\"text-align: right;\">0.30116  </td><td style=\"text-align: right;\">0.30116 </td></tr>\n",
       "<tr><td style=\"text-align: right;\">0.313105 </td><td style=\"text-align: right;\">0.313105</td></tr>\n",
       "<tr><td style=\"text-align: right;\">0.32304  </td><td style=\"text-align: right;\">0.32304 </td></tr>\n",
       "<tr><td style=\"text-align: right;\">0.332971 </td><td style=\"text-align: right;\">0.332971</td></tr>\n",
       "<tr><td style=\"text-align: right;\">1        </td><td style=\"text-align: right;\">1       </td></tr>\n",
       "<tr><td style=\"text-align: right;\">1        </td><td style=\"text-align: right;\">1       </td></tr>\n",
       "<tr><td style=\"text-align: right;\">1        </td><td style=\"text-align: right;\">1       </td></tr>\n",
       "<tr><td style=\"text-align: right;\">1        </td><td style=\"text-align: right;\">1       </td></tr>\n",
       "<tr><td style=\"text-align: right;\">1        </td><td style=\"text-align: right;\">1       </td></tr>\n",
       "<tr><td style=\"text-align: right;\">1        </td><td style=\"text-align: right;\">1       </td></tr>\n",
       "<tr><td style=\"text-align: right;\">1        </td><td style=\"text-align: right;\">1       </td></tr>\n",
       "<tr><td style=\"text-align: right;\">1        </td><td style=\"text-align: right;\">1       </td></tr>\n",
       "<tr><td style=\"text-align: right;\">1        </td><td style=\"text-align: right;\">1       </td></tr>\n",
       "<tr><td style=\"text-align: right;\">1        </td><td style=\"text-align: right;\">1       </td></tr>\n",
       "<tr><td style=\"text-align: right;\">1        </td><td style=\"text-align: right;\">1       </td></tr>\n",
       "<tr><td style=\"text-align: right;\">1        </td><td style=\"text-align: right;\">1       </td></tr>\n",
       "<tr><td style=\"text-align: right;\">1        </td><td style=\"text-align: right;\">1       </td></tr>\n",
       "<tr><td style=\"text-align: right;\">1        </td><td style=\"text-align: right;\">1       </td></tr>\n",
       "<tr><td style=\"text-align: right;\">1        </td><td style=\"text-align: right;\">1       </td></tr>\n",
       "<tr><td style=\"text-align: right;\">1        </td><td style=\"text-align: right;\">1       </td></tr>\n",
       "<tr><td style=\"text-align: right;\">1        </td><td style=\"text-align: right;\">1       </td></tr>\n",
       "<tr><td style=\"text-align: right;\">1        </td><td style=\"text-align: right;\">1       </td></tr>\n",
       "<tr><td style=\"text-align: right;\">1        </td><td style=\"text-align: right;\">1       </td></tr>\n",
       "</tbody>\n",
       "</table>"
      ],
      "text/plain": [
       "'<table>\\n<thead>\\n<tr><th style=\"text-align: right;\">    Excel</th><th style=\"text-align: right;\">  Python</th></tr>\\n</thead>\\n<tbody>\\n<tr><td style=\"text-align: right;\">0        </td><td style=\"text-align: right;\">0       </td></tr>\\n<tr><td style=\"text-align: right;\">0.0703328</td><td style=\"text-align: right;\">0.070333</td></tr>\\n<tr><td style=\"text-align: right;\">0.102085 </td><td style=\"text-align: right;\">0.102085</td></tr>\\n<tr><td style=\"text-align: right;\">0.115988 </td><td style=\"text-align: right;\">0.115988</td></tr>\\n<tr><td style=\"text-align: right;\">0.127193 </td><td style=\"text-align: right;\">0.127193</td></tr>\\n<tr><td style=\"text-align: right;\">0.140799 </td><td style=\"text-align: right;\">0.140799</td></tr>\\n<tr><td style=\"text-align: right;\">0.15302  </td><td style=\"text-align: right;\">0.15302 </td></tr>\\n<tr><td style=\"text-align: right;\">0.164308 </td><td style=\"text-align: right;\">0.164308</td></tr>\\n<tr><td style=\"text-align: right;\">0.177549 </td><td style=\"text-align: right;\">0.177549</td></tr>\\n<tr><td style=\"text-align: right;\">0.193524 </td><td style=\"text-align: right;\">0.193524</td></tr>\\n<tr><td style=\"text-align: right;\">0.205679 </td><td style=\"text-align: right;\">0.205679</td></tr>\\n<tr><td style=\"text-align: right;\">0.221639 </td><td style=\"text-align: right;\">0.221639</td></tr>\\n<tr><td style=\"text-align: right;\">0.237762 </td><td style=\"text-align: right;\">0.237762</td></tr>\\n<tr><td style=\"text-align: right;\">0.250349 </td><td style=\"text-align: right;\">0.250349</td></tr>\\n<tr><td style=\"text-align: right;\">0.261309 </td><td style=\"text-align: right;\">0.261309</td></tr>\\n<tr><td style=\"text-align: right;\">0.273264 </td><td style=\"text-align: right;\">0.273264</td></tr>\\n<tr><td style=\"text-align: right;\">0.288215 </td><td style=\"text-align: right;\">0.288215</td></tr>\\n<tr><td style=\"text-align: right;\">0.30116  </td><td style=\"text-align: right;\">0.30116 </td></tr>\\n<tr><td style=\"text-align: right;\">0.313105 </td><td style=\"text-align: right;\">0.313105</td></tr>\\n<tr><td style=\"text-align: right;\">0.32304  </td><td style=\"text-align: right;\">0.32304 </td></tr>\\n<tr><td style=\"text-align: right;\">0.332971 </td><td style=\"text-align: right;\">0.332971</td></tr>\\n<tr><td style=\"text-align: right;\">1        </td><td style=\"text-align: right;\">1       </td></tr>\\n<tr><td style=\"text-align: right;\">1        </td><td style=\"text-align: right;\">1       </td></tr>\\n<tr><td style=\"text-align: right;\">1        </td><td style=\"text-align: right;\">1       </td></tr>\\n<tr><td style=\"text-align: right;\">1        </td><td style=\"text-align: right;\">1       </td></tr>\\n<tr><td style=\"text-align: right;\">1        </td><td style=\"text-align: right;\">1       </td></tr>\\n<tr><td style=\"text-align: right;\">1        </td><td style=\"text-align: right;\">1       </td></tr>\\n<tr><td style=\"text-align: right;\">1        </td><td style=\"text-align: right;\">1       </td></tr>\\n<tr><td style=\"text-align: right;\">1        </td><td style=\"text-align: right;\">1       </td></tr>\\n<tr><td style=\"text-align: right;\">1        </td><td style=\"text-align: right;\">1       </td></tr>\\n<tr><td style=\"text-align: right;\">1        </td><td style=\"text-align: right;\">1       </td></tr>\\n<tr><td style=\"text-align: right;\">1        </td><td style=\"text-align: right;\">1       </td></tr>\\n<tr><td style=\"text-align: right;\">1        </td><td style=\"text-align: right;\">1       </td></tr>\\n<tr><td style=\"text-align: right;\">1        </td><td style=\"text-align: right;\">1       </td></tr>\\n<tr><td style=\"text-align: right;\">1        </td><td style=\"text-align: right;\">1       </td></tr>\\n<tr><td style=\"text-align: right;\">1        </td><td style=\"text-align: right;\">1       </td></tr>\\n<tr><td style=\"text-align: right;\">1        </td><td style=\"text-align: right;\">1       </td></tr>\\n<tr><td style=\"text-align: right;\">1        </td><td style=\"text-align: right;\">1       </td></tr>\\n<tr><td style=\"text-align: right;\">1        </td><td style=\"text-align: right;\">1       </td></tr>\\n<tr><td style=\"text-align: right;\">1        </td><td style=\"text-align: right;\">1       </td></tr>\\n</tbody>\\n</table>'"
      ]
     },
     "execution_count": 81,
     "metadata": {},
     "output_type": "execute_result"
    }
   ],
   "source": [
    "output_data = convert_data_to_df(\"data/sample.xlsx\", columns=\"M\", skiprows=50)\n",
    "\n",
    "output_soh_delta = output_data[\"Performance Decay with Performance Grid Matrix vs. Initial State of Health (ISOH) Delta\"]\n",
    "\n",
    "data = [\n",
    "    {\"Excel\": output_soh_delta[year-1], \"Python\": value} for year, value in table_output.items()\n",
    "]\n",
    "table = tabulate.tabulate(data, tablefmt=\"html\", headers=\"keys\")\n",
    "table"
   ]
  },
  {
   "cell_type": "code",
   "execution_count": null,
   "metadata": {},
   "outputs": [],
   "source": []
  }
 ],
 "metadata": {
  "kernelspec": {
   "display_name": ".venv",
   "language": "python",
   "name": "python3"
  },
  "language_info": {
   "codemirror_mode": {
    "name": "ipython",
    "version": 3
   },
   "file_extension": ".py",
   "mimetype": "text/x-python",
   "name": "python",
   "nbconvert_exporter": "python",
   "pygments_lexer": "ipython3",
   "version": "3.9.6"
  }
 },
 "nbformat": 4,
 "nbformat_minor": 2
}
