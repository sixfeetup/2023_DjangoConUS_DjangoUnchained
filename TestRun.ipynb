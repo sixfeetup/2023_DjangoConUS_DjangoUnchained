{
 "cells": [
  {
   "cell_type": "markdown",
   "metadata": {},
   "source": [
    "<h1>Powering Energy Storage Beyond Excel</h1>\n",
    "<h2>This is a sample document to show the power of python over Excel files</h2>"
   ]
  },
  {
   "cell_type": "code",
   "execution_count": null,
   "metadata": {},
   "outputs": [],
   "source": [
    "# Required Dependencies\n",
    "import tabulate\n",
    "import pandas as pd\n",
    "from decimal import Decimal as D"
   ]
  },
  {
   "cell_type": "code",
   "execution_count": null,
   "metadata": {},
   "outputs": [],
   "source": [
    "def get_data_for_a_stack(specifications, start, end):\n",
    "    \"\"\"\n",
    "    Get specific data for a given Stack like\n",
    "    1. Name\n",
    "    2. List of Cycles\n",
    "    3. Degradations list\n",
    "    \"\"\"\n",
    "    stack_spec_df = specifications[start:end].fillna(0)\n",
    "    name = stack_spec_df.iloc[0, 0]\n",
    "    cycles = list(stack_spec_df.iloc[1].values[1:])\n",
    "    stack_specs = stack_spec_df.iloc[2:, 1:51]\n",
    "\n",
    "    return name, cycles, stack_specs\n"
   ]
  },
  {
   "cell_type": "code",
   "execution_count": null,
   "metadata": {},
   "outputs": [],
   "source": [
    "def convert_data_to_df(file, columns, skiprows):\n",
    "    \"\"\"\n",
    "    Read and excel file with specific columns and skip any non required \n",
    "    rows you encounter during reading rows.\n",
    "    \"\"\"\n",
    "    specifications = pd.read_excel(file, skiprows=skiprows, usecols=columns)\n",
    "    return specifications"
   ]
  },
  {
   "cell_type": "markdown",
   "metadata": {},
   "source": [
    "<h3>Reading Data from excel to Store in Database for further use in other components</h3>"
   ]
  },
  {
   "cell_type": "code",
   "execution_count": null,
   "metadata": {},
   "outputs": [],
   "source": [
    "# Rreading Data from Excel Sheet\n",
    "total_specifications = convert_data_to_df(\"data/sample.xlsx\", columns=\"AN:CL\", skiprows=49)\n",
    "\n",
    "\"\"\"\n",
    "Reading data for a Stack to store it in the project for future use.\n",
    "Stack Name = S230P CATL (CB2W0) (S230P 1.5+ hrs)\n",
    "\"\"\"\n",
    "stack_name, cycles, stack_spec_model_df = get_data_for_a_stack(total_specifications, start=0, end=23)\n",
    "\n",
    "year = 0\n",
    "print(\"Stack Name:\", stack_name)\n",
    "for _, row in stack_spec_model_df.iterrows():\n",
    "    print(\"year\", year)\n",
    "    for cycle, degradation in enumerate(row):\n",
    "        print(\"Cycle No:\",int(cycles[cycle]))\n",
    "        print(\"Degradation Value:\", degradation * 100)\n",
    "        print(\" \")\n",
    "    year = year + 1"
   ]
  },
  {
   "cell_type": "code",
   "execution_count": null,
   "metadata": {},
   "outputs": [],
   "source": [
    "\"\"\"\n",
    "Reading data for a Stack to store it in the project for future use.\n",
    "Stack Name = S230E CATL (CB310) 3 and 4 hour (S230E 3+ hrs)\n",
    "\"\"\"\n",
    "stack_name, cycles, stack_spec_model_df = get_data_for_a_stack(total_specifications, start=24, end=47)\n",
    "print(\"Stack Name:\", stack_name)\n",
    "year = 0\n",
    "for _, row in stack_spec_model_df.iterrows():\n",
    "    print(\"year\", year)\n",
    "    for cycle, degradation in enumerate(row):\n",
    "        print(\"Cycle No:\",int(cycles[cycle]))\n",
    "        print(\"Degradation Value:\", degradation * 100)\n",
    "        print(\" \")\n",
    "    year = year + 1"
   ]
  },
  {
   "cell_type": "markdown",
   "metadata": {},
   "source": [
    "<h3>Storing Constant Data for Project</h3>"
   ]
  },
  {
   "cell_type": "code",
   "execution_count": null,
   "metadata": {},
   "outputs": [],
   "source": [
    "def convert_data_type(data_property):\n",
    "    \"\"\"\n",
    "    Convert list of data into a dictionary, where keys\n",
    "    represent the years and values represent the values\n",
    "    against that year. \n",
    "    \"\"\"\n",
    "    output = {\n",
    "        index: D(value)\n",
    "            for index, value in enumerate(data_property, start=1)\n",
    "    }\n",
    "    return output"
   ]
  },
  {
   "cell_type": "code",
   "execution_count": null,
   "metadata": {},
   "outputs": [],
   "source": [
    "def get_constant_data_for_project(sheet_name, columns, skiprows):\n",
    "    \"\"\"\n",
    "    Read only specific columns from the excel file.\n",
    "    \"\"\"\n",
    "    data = convert_data_to_df(sheet_name, columns=columns, skiprows=skiprows).iloc[0:40]\n",
    "    return data\n"
   ]
  },
  {
   "cell_type": "code",
   "execution_count": null,
   "metadata": {},
   "outputs": [],
   "source": [
    "sheet_data = get_constant_data_for_project(\"data/sample.xlsx\", columns=\"T:X\", skiprows=54)\n",
    "\n",
    "\"\"\"\n",
    "Get required columns from the data frame and convert them into \n",
    "desired behaviour using convert_data_type() function\n",
    "\"\"\"\n",
    "\n",
    "DEGRADATION_CURVE =  convert_data_type(sheet_data[\"DEGRADATION_CURVE\"])\n",
    "INCREMENTAL_TRANCHE_DC_OUTPUT = convert_data_type(sheet_data[\"INCREMENTAL_TRANCHE_DC_OUTPUT\"])\n",
    "DEGRADATION_CURVE_TRANCHE_GT_1 = convert_data_type(sheet_data[\"DEGRADATION_CURVE_TRANCHE_GT_1\"])\n",
    "INCREMENTAL_PROJECT_DC_OUTPUT = convert_data_type(sheet_data[\"INCREMENTAL_PROJECT_DC_OUTPUT\"])\n",
    "DEGRADATION_WITH_PG_MATRIX = convert_data_type(sheet_data[\"DEGRADATION_WITH_PG_MATRIX\"])"
   ]
  },
  {
   "cell_type": "markdown",
   "metadata": {},
   "source": [
    "<h3>Implementing calculations and formulas from an excel file</h3>"
   ]
  },
  {
   "cell_type": "code",
   "execution_count": null,
   "metadata": {},
   "outputs": [],
   "source": [
    "class Tranche:\n",
    "    \"\"\"Calculate PG Table Tranche formulas for the project.\"\"\"\n",
    "\n",
    "    def __init__(self, tranche_info):\n",
    "        \"\"\"Constructor\"\"\"\n",
    "        self.tranche_info = tranche_info\n",
    "        self.years = [year for year in range(1, 41)]\n",
    "        self.tranche_degradation_with_pg_matrix_prev = (\n",
    "            DEGRADATION_CURVE\n",
    "            if self.tranche_info == 1\n",
    "            else DEGRADATION_CURVE_TRANCHE_GT_1\n",
    "        )\n",
    "\n",
    "    @property\n",
    "    def incremental_tranche_dc_output(self):\n",
    "        \"\"\"\n",
    "        Incremental Tranche DC  Output (MWhDC Out)\n",
    "        =IF(E98<2, 0, IFERROR(I53*(Augmentation!L10/Augmentation!$J10),0))\n",
    "        \"\"\"\n",
    "        return INCREMENTAL_TRANCHE_DC_OUTPUT\n",
    "\n",
    "    @property\n",
    "    def aggregate_tranche_dc_output(self):\n",
    "        \"\"\"\n",
    "        Aggregate Tranche DC  Output (MWhDC Out)\n",
    "        =SUM(Hn:H$n)\n",
    "        \"\"\"\n",
    "        # n is a natural number\n",
    "        incremental_tranche_dc_output = self.incremental_tranche_dc_output\n",
    "        result = {1: 0, 2: incremental_tranche_dc_output[2]}\n",
    "        for year in self.years[2:]:\n",
    "            result[year] = sum(\n",
    "                [incremental_tranche_dc_output[prev_year] for prev_year in result]\n",
    "                + [incremental_tranche_dc_output[year]]\n",
    "            )\n",
    "\n",
    "        return result\n",
    "\n",
    "    @property\n",
    "    def tranche_years(self):\n",
    "        \"\"\"\n",
    "        Total Years for a project\n",
    "        \"\"\"\n",
    "        return self.years\n",
    "\n",
    "    @property\n",
    "    def degradation_with_pg_matrix(self):\n",
    "        \"\"\"\n",
    "        A constant value throughout the project\n",
    "        \"\"\"\n",
    "        return DEGRADATION_WITH_PG_MATRIX\n",
    "\n",
    "    @property\n",
    "    def pg_matrix_hard_input_soh_delta(self):\n",
    "        \"\"\"\n",
    "        Deg w/ PG Matrix vs HARD INPUT SOH Delta\n",
    "        \"\"\"\n",
    "        degradation_with_pg_matrix = self.degradation_with_pg_matrix\n",
    "        result = {}\n",
    "        for year in self.years:\n",
    "            result[year] = abs(\n",
    "                round(degradation_with_pg_matrix[year], 5)\n",
    "                - round(D(self.tranche_degradation_with_pg_matrix_prev[year]), 5)\n",
    "            )\n",
    "        return result\n"
   ]
  },
  {
   "cell_type": "code",
   "execution_count": null,
   "metadata": {},
   "outputs": [],
   "source": [
    "class PgTableProject:\n",
    "    \"\"\"PG sheet project table formulas\"\"\"\n",
    "\n",
    "    tranche_1 = None\n",
    "    tranche_2 = None\n",
    "\n",
    "    def __init__(self):\n",
    "        self.years = [year for year in range(1, 41)]\n",
    "        self.initialize_tranches()\n",
    "\n",
    "    def initialize_tranches(self):\n",
    "        for tranche in [tranche for tranche in range(1, 3)]:\n",
    "            setattr(self, f\"tranche_{tranche}\", Tranche(tranche_info=tranche),)\n",
    "\n",
    "    @property\n",
    "    def project_pg_matrix_hard_input_soh_delta(self):\n",
    "        \"\"\"Calculate Deg w/ PG Matrix vs HARD INPUT SOH Delta\"\"\"\n",
    "        tranche_deg_pg_matrix = {}\n",
    "        for tranche in [tranche for tranche in range(1, 3)]:\n",
    "            tranche_obj = getattr(self, f\"tranche_{tranche}\")\n",
    "            tranche_deg_pg_matrix[tranche] = tranche_obj.pg_matrix_hard_input_soh_delta\n",
    "\n",
    "        result = {}\n",
    "        for year in self.years:\n",
    "            result[year] = max(\n",
    "                [tranche_deg_pg_matrix[tranche][year] for tranche in [tranche for tranche in range(1, 3)]]\n",
    "            )\n",
    "\n",
    "        return result\n",
    "\n",
    "    @property\n",
    "    def project_cycles(self):\n",
    "        result = {1: 0}\n",
    "        for year in self.years[1:]:\n",
    "            result[year] = result[year - 1] + self.cycles_per_year\n",
    "        return result\n"
   ]
  },
  {
   "cell_type": "code",
   "execution_count": null,
   "metadata": {},
   "outputs": [],
   "source": [
    "pg_table = PgTableProject()\n",
    "hard_input_soh_delta = pg_table.project_pg_matrix_hard_input_soh_delta"
   ]
  },
  {
   "cell_type": "markdown",
   "metadata": {},
   "source": [
    "<h3>Compare results from Excel sheet and Code</h3>"
   ]
  },
  {
   "cell_type": "code",
   "execution_count": null,
   "metadata": {},
   "outputs": [],
   "source": [
    "output_data = convert_data_to_df(\"data/sample.xlsx\", columns=\"M\", skiprows=50)\n",
    "\n",
    "output_soh_delta = output_data[\"Deg w/ PG Matrix vs HARD INPUT SOH Delta\"]\n",
    "\n",
    "data = [\n",
    "    {\"Excel\": output_soh_delta[year-1], \"Python\": value} for year, value in hard_input_soh_delta.items()\n",
    "]\n",
    "table = tabulate.tabulate(data, tablefmt=\"html\", headers=\"keys\")\n",
    "table"
   ]
  }
 ],
 "metadata": {
  "kernelspec": {
   "display_name": ".venv",
   "language": "python",
   "name": "python3"
  },
  "language_info": {
   "codemirror_mode": {
    "name": "ipython",
    "version": 3
   },
   "file_extension": ".py",
   "mimetype": "text/x-python",
   "name": "python",
   "nbconvert_exporter": "python",
   "pygments_lexer": "ipython3",
   "version": "3.10.12"
  }
 },
 "nbformat": 4,
 "nbformat_minor": 2
}
